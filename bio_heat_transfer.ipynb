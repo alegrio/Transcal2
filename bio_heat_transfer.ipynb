{
  "cells": [
    {
      "cell_type": "markdown",
      "source": [
        "# Regime Transiente"
      ],
      "metadata": {
        "id": "rRfgFchqt3xw"
      }
    },
    {
      "cell_type": "markdown",
      "source": [
        "v2 estamos usando\n"
      ],
      "metadata": {
        "id": "4THtGeQS27a1"
      }
    },
    {
      "cell_type": "code",
      "source": [
        "import numpy as np\n",
        "import matplotlib.pyplot as plt\n",
        "import matplotlib.cm as cm\n",
        "from matplotlib import animation\n",
        "\n",
        "# Propriedades biofísicas (legenda: tumor, epidermis, papillary, reticular, subcutaneos, muscle)\n",
        "ro = np.array([1030, 1200, 1200, 1200, 1000, 1085])  # Densidade [kg/m^3]\n",
        "c = np.array([3852, 3589, 3300, 3300, 2674, 3800])    # Calor específico [J/(kg.K)]\n",
        "k = np.array([0.558, 0.235, 0.445, 0.445, 0.185, 0.51])  # Condutividade térmica [W/(m.K)]\n",
        "#alfa = k / (ro * c)  # Difusividade térmica\n",
        "omega = np.array([0.0063, 0, 0.0002, 0.0013, 0.0001, 0.0027])  # Perfusão sanguínea\n",
        "Q_bas = np.array([3700, 0, 368.1, 368.1, 368.3, 684.2])  # Taxa metabólica basal [W/m^3]\n",
        "q = np.array([1.1, 2, 2, 2, 2, 2])  # Fator de ajuste metabólico\n",
        "\n",
        "# Defina a ordem das camadas\n",
        "camadas = [1, 2, 3, 4, 5, 0, 5]  # Ordem: Epidermis, papillary, reticular, subcutanea, muscular, tumor, muscular\n",
        "\n",
        "# Espessuras das camadas correspondentes [m]\n",
        "#H_layers = np.array([0.00045, 0.0001, 0.0007, 0.0008, 0.002, 0.004])  # Espessuras em ordem personalizada\n",
        "H_layers = np.array([0.45, 0.1, 0.7, 0.8, 2, 4])/1000  # Espessuras em ordem personalizada\n",
        "H_layers = H_layers[np.array(camadas)]  # Reordena as espessuras\n",
        "\n",
        "# Reorganiza as propriedades com base na ordem das camadas\n",
        "ro = ro[camadas]\n",
        "c = c[camadas]\n",
        "k = k[camadas]\n",
        "omega = omega[camadas]\n",
        "Q_bas = Q_bas[camadas]\n",
        "q = q[camadas]\n",
        "\n",
        "alfa = k / (ro * c)  # Difusividade térmica\n",
        "\n",
        "h = 100\n",
        "rho_b = 1050         # Blood density (kg/m^3)\n",
        "c_pb = 3600\n",
        "\n",
        "# Temperaturas fixas\n",
        "ta = 37  # Temperatura arterial [°C]\n",
        "te = 25  # Temperatura externa [°C]\n",
        "t0 = 35.5\n",
        "\n",
        "# Funções para cálculo de Q e w\n",
        "def calc_Q(T, Q_bas, q):\n",
        "    \"\"\"Cálculo da taxa metabólica ajustada\"\"\"\n",
        "    return Q_bas * q ** ((T - ta) / 10)\n",
        "\n",
        "def calc_w(T, omega, q):\n",
        "    \"\"\"Cálculo da perfusão sanguínea ajustada\"\"\"\n",
        "    return omega * q ** ((T - ta) / 10)\n",
        "\n",
        "# Calcula os valores iniciais para w e Q\n",
        "w = calc_w(ta, omega, q)\n",
        "Q = calc_Q(ta, Q_bas, q)\n",
        "\n",
        "# Configuração para o Método das Diferenças Finitas (FDM)\n",
        "H_total = np.sum(H_layers)  # Profundidade total [m]\n",
        "dx = 0.00003  # Passo espacial [m]\n",
        "num_points_per_layer = (H_layers / dx).astype(int)  # Pontos por camada\n",
        "num_points = np.sum(num_points_per_layer)  # Total de pontos\n",
        "\n",
        "dt = 0.5 * (dx**2) / 1.25 * np.max(alfa)  # Passo temporal [s]\n",
        "\n",
        "# Limitação para evitar problemas de memória\n",
        "tempo = 500  # Tempo total de simulação [s]\n",
        "nsteps = min(int(tempo / dt), 100000)  # Número de passos de tempo\n",
        "tempo = nsteps * dt  # Tempo total de simulação [s]\n",
        "\n",
        "# Inicialização do array de temperatura\n",
        "u = t0 * np.ones(num_points)  # Temperatura inicial\n",
        "u[-1] = ta  # Condição de contorno\n",
        "\n",
        "# Função para determinar a camada com base no índice do ponto\n",
        "def identificar_camada(indice, num_points_per_layer):\n",
        "    acumulado = 0\n",
        "    for i, pontos in enumerate(num_points_per_layer):\n",
        "        acumulado += pontos\n",
        "        if indice < acumulado:\n",
        "            return i\n",
        "    return len(num_points_per_layer) - 1\n",
        "\n",
        "# Criação da grade para visualização\n",
        "x = np.linspace(0, H_total, num_points)\n",
        "y = np.linspace(0, 0.004, 5)\n",
        "x, y = np.meshgrid(x, y)\n",
        "\n",
        "# Criar tensor de temperatura\n",
        "T = np.tile(u, (5, 1))  # Ajustar para (5, num_points)\n",
        "T_tensor = T.copy().reshape((5, num_points, 1))\n",
        "\n",
        "# Criar tensor de tempo\n",
        "tempo_array = np.linspace(0, tempo, nsteps - 1)\n",
        "tempo_tensor = tempo_array.copy().reshape((1, 1, nsteps - 1))\n",
        "tempo_tensor_broadcasted = np.broadcast_to(tempo_tensor, (T_tensor.shape[0], T_tensor.shape[1], tempo_tensor.shape[2]))\n",
        "\n",
        "# Combinar temperatura e tempo em um mapa temporal\n",
        "mapa_temporal = np.concatenate((T_tensor, tempo_tensor_broadcasted), axis=-1)\n",
        "\n",
        "# Verificar dimensões\n",
        "print(f\"Dimensão de T_tensor: {T_tensor.shape}\")\n",
        "print(f\"Dimensão de mapa_temporal: {mapa_temporal.shape}\")\n",
        "\n",
        "#Simulação\n",
        "for t in range(len(tempo_array)):\n",
        "  u0 = u.copy()\n",
        "\n",
        "  u[0] = (h * te + ((k[1] / dx) * u0[1])) / (h + (k[1] / dx))\n",
        "\n",
        "  for i in range(1, num_points - 1):\n",
        "    m = identificar_camada(i, num_points_per_layer)\n",
        "    w = calc_w(u[i], omega[m], q[m])\n",
        "    Q = calc_Q(u[i], Q_bas[m], q[m])\n",
        "\n",
        "    beta = (w * rho_b * c_pb) / (ro[m] * c[m])\n",
        "    u[i] = u0[i] + dt * ((alfa[m] * (u0[i-1] - 2*u0[i] + u0[i+1])) / (dx**2) + beta * (ta - u0[i]) + Q / (ro[m] * c[m]))\n",
        "\n",
        "  mapa_temporal[:, :, t] = np.tile(u, (5, 1))\n",
        "\n",
        "# Seleciona os frames a serem animados\n",
        "movie_frames = mapa_temporal[:,:,0::50]   #200 frames animados\n",
        "\n",
        "# Visualização do campo de temperatura inicial\n",
        "fig, ax = plt.subplots()\n",
        "pcm = ax.pcolormesh(y, x, movie_frames[:, :, 0], cmap='jet', vmin=np.min(u), vmax=np.max(u))\n",
        "fig.colorbar(pcm, ax=ax, label='Temperatura (°C)')\n",
        "ax.set_title('Distribuição Inicial de Temperatura na Pele')\n",
        "plt.xlabel('Profundidade (m)')\n",
        "plt.ylabel('Posição transversal (m)')\n",
        "\n",
        "# Seleciona os frames a serem animados\n",
        "tempo_video = 10000  #[ms]\n",
        "numero_frames = 200\n",
        "intervalo_tempo = int(tempo_video / numero_frames)  #[ms]\n",
        "\n",
        "#Define the initialization function for the animation.  In this case, the function returns the first frame\n",
        "#of the movie animation.\n",
        "def init():\n",
        "    pcm.set_array(movie_frames[:,:,0].ravel())\n",
        "    return pcm,\n",
        "\n",
        "#Define the animation update function.  In this function, each map image will be updated with the current frame.\n",
        "def animate(i):\n",
        "    pcm.set_array(movie_frames[:,:,i].ravel())\n",
        "    return pcm,\n",
        "\n",
        "# 200 frames = 10 s * x frames por segundo\n",
        "# x = 20 frames por segundo // intervalo = 50 ms\n",
        "\n",
        "#Call the full animation function.  The number of frames is given by the last element of the shape tuple of\n",
        "#of the movie frames array.  The time interval between each frame is 50 ms, which will show the animated movie\n",
        "#at 20 fps\n",
        "anim = animation.FuncAnimation(fig, animate, init_func = init, frames = movie_frames.shape[2], interval = intervalo_tempo)\n",
        "\n",
        "#Save the animation as an avi movie file.\n",
        "anim.save('bioheat_skin_cancer_animation.avi')\n",
        "\n",
        "#Display the resulting animated heat map, which shows temperature changes in the plate over time as it cools down.\n",
        "plt.show()\n",
        "\n",
        "\n",
        "\n"
      ],
      "metadata": {
        "id": "mkBq23d02_QP",
        "colab": {
          "base_uri": "https://localhost:8080/",
          "height": 383
        },
        "outputId": "ac5f9115-0646-4047-f012-15299128910a"
      },
      "execution_count": 18,
      "outputs": [
        {
          "output_type": "stream",
          "name": "stdout",
          "text": [
            "Dimensão de T_tensor: (5, 399, 1)\n",
            "Dimensão de mapa_temporal: (5, 399, 100000)\n"
          ]
        },
        {
          "output_type": "error",
          "ename": "KeyboardInterrupt",
          "evalue": "",
          "traceback": [
            "\u001b[0;31m---------------------------------------------------------------------------\u001b[0m",
            "\u001b[0;31mKeyboardInterrupt\u001b[0m                         Traceback (most recent call last)",
            "\u001b[0;32m<ipython-input-18-a5a9046b04cf>\u001b[0m in \u001b[0;36m<cell line: 103>\u001b[0;34m()\u001b[0m\n\u001b[1;32m    107\u001b[0m \u001b[0;34m\u001b[0m\u001b[0m\n\u001b[1;32m    108\u001b[0m   \u001b[0;32mfor\u001b[0m \u001b[0mi\u001b[0m \u001b[0;32min\u001b[0m \u001b[0mrange\u001b[0m\u001b[0;34m(\u001b[0m\u001b[0;36m1\u001b[0m\u001b[0;34m,\u001b[0m \u001b[0mnum_points\u001b[0m \u001b[0;34m-\u001b[0m \u001b[0;36m1\u001b[0m\u001b[0;34m)\u001b[0m\u001b[0;34m:\u001b[0m\u001b[0;34m\u001b[0m\u001b[0;34m\u001b[0m\u001b[0m\n\u001b[0;32m--> 109\u001b[0;31m     \u001b[0mm\u001b[0m \u001b[0;34m=\u001b[0m \u001b[0midentificar_camada\u001b[0m\u001b[0;34m(\u001b[0m\u001b[0mi\u001b[0m\u001b[0;34m,\u001b[0m \u001b[0mnum_points_per_layer\u001b[0m\u001b[0;34m)\u001b[0m\u001b[0;34m\u001b[0m\u001b[0;34m\u001b[0m\u001b[0m\n\u001b[0m\u001b[1;32m    110\u001b[0m     \u001b[0mbeta\u001b[0m \u001b[0;34m=\u001b[0m \u001b[0;34m(\u001b[0m\u001b[0mw\u001b[0m\u001b[0;34m[\u001b[0m\u001b[0mm\u001b[0m\u001b[0;34m]\u001b[0m \u001b[0;34m*\u001b[0m \u001b[0mrho_b\u001b[0m \u001b[0;34m*\u001b[0m \u001b[0mc_pb\u001b[0m\u001b[0;34m)\u001b[0m \u001b[0;34m/\u001b[0m \u001b[0;34m(\u001b[0m\u001b[0mro\u001b[0m\u001b[0;34m[\u001b[0m\u001b[0mm\u001b[0m\u001b[0;34m]\u001b[0m \u001b[0;34m*\u001b[0m \u001b[0mc\u001b[0m\u001b[0;34m[\u001b[0m\u001b[0mm\u001b[0m\u001b[0;34m]\u001b[0m\u001b[0;34m)\u001b[0m\u001b[0;34m\u001b[0m\u001b[0;34m\u001b[0m\u001b[0m\n\u001b[1;32m    111\u001b[0m     \u001b[0mu\u001b[0m\u001b[0;34m[\u001b[0m\u001b[0mi\u001b[0m\u001b[0;34m]\u001b[0m \u001b[0;34m=\u001b[0m \u001b[0mu0\u001b[0m\u001b[0;34m[\u001b[0m\u001b[0mi\u001b[0m\u001b[0;34m]\u001b[0m \u001b[0;34m+\u001b[0m \u001b[0mdt\u001b[0m \u001b[0;34m*\u001b[0m \u001b[0;34m(\u001b[0m\u001b[0;34m(\u001b[0m\u001b[0malfa\u001b[0m\u001b[0;34m[\u001b[0m\u001b[0mm\u001b[0m\u001b[0;34m]\u001b[0m \u001b[0;34m*\u001b[0m \u001b[0;34m(\u001b[0m\u001b[0mu0\u001b[0m\u001b[0;34m[\u001b[0m\u001b[0mi\u001b[0m\u001b[0;34m-\u001b[0m\u001b[0;36m1\u001b[0m\u001b[0;34m]\u001b[0m \u001b[0;34m-\u001b[0m \u001b[0;36m2\u001b[0m\u001b[0;34m*\u001b[0m\u001b[0mu0\u001b[0m\u001b[0;34m[\u001b[0m\u001b[0mi\u001b[0m\u001b[0;34m]\u001b[0m \u001b[0;34m+\u001b[0m \u001b[0mu0\u001b[0m\u001b[0;34m[\u001b[0m\u001b[0mi\u001b[0m\u001b[0;34m+\u001b[0m\u001b[0;36m1\u001b[0m\u001b[0;34m]\u001b[0m\u001b[0;34m)\u001b[0m\u001b[0;34m)\u001b[0m \u001b[0;34m/\u001b[0m \u001b[0;34m(\u001b[0m\u001b[0mdx\u001b[0m\u001b[0;34m**\u001b[0m\u001b[0;36m2\u001b[0m\u001b[0;34m)\u001b[0m \u001b[0;34m+\u001b[0m \u001b[0mbeta\u001b[0m \u001b[0;34m*\u001b[0m \u001b[0;34m(\u001b[0m\u001b[0mta\u001b[0m \u001b[0;34m-\u001b[0m \u001b[0mu0\u001b[0m\u001b[0;34m[\u001b[0m\u001b[0mi\u001b[0m\u001b[0;34m]\u001b[0m\u001b[0;34m)\u001b[0m \u001b[0;34m+\u001b[0m \u001b[0mQ\u001b[0m\u001b[0;34m[\u001b[0m\u001b[0mm\u001b[0m\u001b[0;34m]\u001b[0m \u001b[0;34m/\u001b[0m \u001b[0;34m(\u001b[0m\u001b[0mro\u001b[0m\u001b[0;34m[\u001b[0m\u001b[0mm\u001b[0m\u001b[0;34m]\u001b[0m \u001b[0;34m*\u001b[0m \u001b[0mc\u001b[0m\u001b[0;34m[\u001b[0m\u001b[0mm\u001b[0m\u001b[0;34m]\u001b[0m\u001b[0;34m)\u001b[0m\u001b[0;34m)\u001b[0m\u001b[0;34m\u001b[0m\u001b[0;34m\u001b[0m\u001b[0m\n",
            "\u001b[0;32m<ipython-input-18-a5a9046b04cf>\u001b[0m in \u001b[0;36midentificar_camada\u001b[0;34m(indice, num_points_per_layer)\u001b[0m\n\u001b[1;32m     75\u001b[0m     \u001b[0;32mfor\u001b[0m \u001b[0mi\u001b[0m\u001b[0;34m,\u001b[0m \u001b[0mpontos\u001b[0m \u001b[0;32min\u001b[0m \u001b[0menumerate\u001b[0m\u001b[0;34m(\u001b[0m\u001b[0mnum_points_per_layer\u001b[0m\u001b[0;34m)\u001b[0m\u001b[0;34m:\u001b[0m\u001b[0;34m\u001b[0m\u001b[0;34m\u001b[0m\u001b[0m\n\u001b[1;32m     76\u001b[0m         \u001b[0macumulado\u001b[0m \u001b[0;34m+=\u001b[0m \u001b[0mpontos\u001b[0m\u001b[0;34m\u001b[0m\u001b[0;34m\u001b[0m\u001b[0m\n\u001b[0;32m---> 77\u001b[0;31m         \u001b[0;32mif\u001b[0m \u001b[0mindice\u001b[0m \u001b[0;34m<\u001b[0m \u001b[0macumulado\u001b[0m\u001b[0;34m:\u001b[0m\u001b[0;34m\u001b[0m\u001b[0;34m\u001b[0m\u001b[0m\n\u001b[0m\u001b[1;32m     78\u001b[0m             \u001b[0;32mreturn\u001b[0m \u001b[0mi\u001b[0m\u001b[0;34m\u001b[0m\u001b[0;34m\u001b[0m\u001b[0m\n\u001b[1;32m     79\u001b[0m     \u001b[0;32mreturn\u001b[0m \u001b[0mlen\u001b[0m\u001b[0;34m(\u001b[0m\u001b[0mnum_points_per_layer\u001b[0m\u001b[0;34m)\u001b[0m \u001b[0;34m-\u001b[0m \u001b[0;36m1\u001b[0m\u001b[0;34m\u001b[0m\u001b[0;34m\u001b[0m\u001b[0m\n",
            "\u001b[0;31mKeyboardInterrupt\u001b[0m: "
          ]
        }
      ]
    },
    {
      "cell_type": "code",
      "source": [],
      "metadata": {
        "colab": {
          "base_uri": "https://localhost:8080/"
        },
        "id": "bXWgCnLNESk6",
        "outputId": "df52af8e-8f06-41dc-ff30-d6c995f3f09e"
      },
      "execution_count": 12,
      "outputs": [
        {
          "output_type": "execute_result",
          "data": {
            "text/plain": [
              "True"
            ]
          },
          "metadata": {},
          "execution_count": 12
        }
      ]
    }
  ],
  "metadata": {
    "colab": {
      "provenance": []
    },
    "kernelspec": {
      "display_name": "Python 3",
      "name": "python3"
    }
  },
  "nbformat": 4,
  "nbformat_minor": 0
}